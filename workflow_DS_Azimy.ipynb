{
 "cells": [
  {
   "cell_type": "markdown",
   "id": "55f28880",
   "metadata": {},
   "source": [
    "### Introduction\n",
    "\n",
    "My News Reader Project explores sentiment analysis using Reddit comments from the Politics subreddit to gauge public opinion. By training a machine learning model, the project aims to classify comments as positive, negative, or neutral, with a focus on the sentiments surrounding Donald Trump and Kamala Harris. Since the data is limited to a specific subreddit, this analysis is not a reliable reflection of overall public sentiment. However, it serves as a practical demonstration of how machine learning can be applied to achieve project objectives, such as text classification and sentiment analysis."
   ]
  },
  {
   "cell_type": "code",
   "execution_count": 26,
   "id": "fbbc9260",
   "metadata": {},
   "outputs": [],
   "source": [
    "# import all the required libraries\n",
    "import pandas as pd\n",
    "import praw\n",
    "import numpy as np\n",
    "\n",
    "from vaderSentiment.vaderSentiment import SentimentIntensityAnalyzer\n",
    "\n",
    "from matplotlib import pyplot as plt\n",
    "import seaborn as sns\n",
    "\n",
    "from sklearn.model_selection import train_test_split\n",
    "from sklearn.feature_extraction.text import TfidfVectorizer\n",
    "from sklearn.linear_model import LogisticRegression\n",
    "from sklearn.metrics import classification_report, accuracy_score\n",
    "from sklearn.metrics import confusion_matrix\n",
    "\n",
    "import string\n",
    "import nltk\n",
    "from nltk.corpus import stopwords"
   ]
  },
  {
   "cell_type": "markdown",
   "id": "eaf7a90a",
   "metadata": {},
   "source": [
    "#### Data acquisition\n",
    "\n",
    "For this project, I use the Reddit API to collect data from the Politics subreddit. I search for posts mentioning either 'Trump' or 'Harris' in the title and gather all associated comments. To facilitate data exploration, I first store the comments in separate lists and data frames, then merge them into a single dataset to train the machine learning model.\n",
    "\n",
    "Since the data is initially unlabeled, I use VADER, a pre-trained sentiment analysis tool, to automatically label the comments, as manual labeling is not feasible for now. This labeling is essential for applying a supervised machine learning model, which requires labeled data for training.\n",
    "\n",
    "Additionally, I have made the dataframes of titles, which I won't use."
   ]
  },
  {
   "cell_type": "code",
   "execution_count": 2,
   "id": "18ef476a-ff83-43be-806c-dca6a4bdb94c",
   "metadata": {},
   "outputs": [
    {
     "name": "stdout",
     "output_type": "stream",
     "text": [
      "Titles containing Trump: 461\n",
      "Titles containing Harris: 83\n",
      "There are total 55361 comments for Trump\n",
      "There are total 8633 comments for Harris\n"
     ]
    }
   ],
   "source": [
    "\n",
    "# Initialize Reddit API connection\n",
    "reddit = praw.Reddit(\n",
    "    client_id='tZwMe0a2cneHp6qZz_x09w',\n",
    "    client_secret='Hp-RZTXgWHFSayjB5177ZyKRPfVpQw',\n",
    "    user_agent='Mean_Stuff7937'\n",
    ")\n",
    "\n",
    "# Lists to store the titles and comments\n",
    "politics_titles_trump = []\n",
    "politics_titles_harris = []\n",
    "\n",
    "# List contains comments about posts related to Trump\n",
    "comments_trump = []\n",
    "\n",
    "# List contains comments about posts related to Harris\n",
    "comments_harris = []\n",
    "\n",
    "# Access the 'politics' subreddit\n",
    "subreddit = reddit.subreddit('politics')\n",
    "\n",
    "# Function to safely handle comments for a given post\n",
    "def handle_comments(post, title_list, comment_list):\n",
    "    title_list.append(post.title)\n",
    "    post.comments.replace_more(limit=0)  # Collapse \"load more comments\"\n",
    "    for comment in post.comments.list():\n",
    "        comment_list.append(comment.body)\n",
    "\n",
    "# Limit to a certain number of posts to avoid overwhelming the API\n",
    "for post in subreddit.hot(limit=None):  # Fetch top 100 posts\n",
    "    try:\n",
    "        title_lower = post.title.lower()  # Make title lowercase for case-insensitive match\n",
    "\n",
    "        # Check if 'trump' is in the title\n",
    "        if 'trump' in title_lower:\n",
    "            handle_comments(post, politics_titles_trump, comments_trump)\n",
    "\n",
    "        # Check if 'harris' is in the title\n",
    "        elif 'harris' in title_lower:\n",
    "            handle_comments(post, politics_titles_harris, comments_harris)\n",
    "\n",
    "    except Exception as e:\n",
    "        print(f\"An error occurred with post: {post.title}, error: {e}\")\n",
    "        time.sleep(2)  # Delay to avoid rate-limiting issues\n",
    "\n",
    "# Print the count of titles containing 'Trump' and 'Harris'\n",
    "print(f\"Titles containing Trump: {len(politics_titles_trump)}\")\n",
    "print(f\"Titles containing Harris: {len(politics_titles_harris)}\")\n",
    "print(f\"There are total {len(comments_trump)} comments for Trump\")\n",
    "print(f\"There are total {len(comments_harris)} comments for Harris\")\n"
   ]
  },
  {
   "cell_type": "markdown",
   "id": "b9919688",
   "metadata": {},
   "source": [
    "#### Creating data frame for titles for each, Trump and Harris"
   ]
  },
  {
   "cell_type": "code",
   "execution_count": 3,
   "id": "37f301d8",
   "metadata": {},
   "outputs": [
    {
     "data": {
      "text/html": [
       "<div>\n",
       "<style scoped>\n",
       "    .dataframe tbody tr th:only-of-type {\n",
       "        vertical-align: middle;\n",
       "    }\n",
       "\n",
       "    .dataframe tbody tr th {\n",
       "        vertical-align: top;\n",
       "    }\n",
       "\n",
       "    .dataframe thead th {\n",
       "        text-align: right;\n",
       "    }\n",
       "</style>\n",
       "<table border=\"1\" class=\"dataframe\">\n",
       "  <thead>\n",
       "    <tr style=\"text-align: right;\">\n",
       "      <th></th>\n",
       "      <th>politics_titles_Trump</th>\n",
       "    </tr>\n",
       "  </thead>\n",
       "  <tbody>\n",
       "    <tr>\n",
       "      <th>0</th>\n",
       "      <td>If Trump Wins in November, Life on Earth Is Li...</td>\n",
       "    </tr>\n",
       "    <tr>\n",
       "      <th>1</th>\n",
       "      <td>If you thought Harris/Trump was brutal wait fo...</td>\n",
       "    </tr>\n",
       "    <tr>\n",
       "      <th>2</th>\n",
       "      <td>Brutal Video Shows Pace of Trump’s Cognitive D...</td>\n",
       "    </tr>\n",
       "    <tr>\n",
       "      <th>3</th>\n",
       "      <td>Trump Blames Everybody but Himself</td>\n",
       "    </tr>\n",
       "    <tr>\n",
       "      <th>4</th>\n",
       "      <td>Harris widens her lead over Trump in new 2024 ...</td>\n",
       "    </tr>\n",
       "    <tr>\n",
       "      <th>...</th>\n",
       "      <td>...</td>\n",
       "    </tr>\n",
       "    <tr>\n",
       "      <th>456</th>\n",
       "      <td>Twenty educators at Barron Trump’s new school ...</td>\n",
       "    </tr>\n",
       "    <tr>\n",
       "      <th>457</th>\n",
       "      <td>Trump Spent the Debate Walking Into Traps Harr...</td>\n",
       "    </tr>\n",
       "    <tr>\n",
       "      <th>458</th>\n",
       "      <td>Trump insists Russia’s war should end. But he ...</td>\n",
       "    </tr>\n",
       "    <tr>\n",
       "      <th>459</th>\n",
       "      <td>What the Debate Made Clear About a Second Trum...</td>\n",
       "    </tr>\n",
       "    <tr>\n",
       "      <th>460</th>\n",
       "      <td>FACT CHECK: A look at the false and misleading...</td>\n",
       "    </tr>\n",
       "  </tbody>\n",
       "</table>\n",
       "<p>461 rows × 1 columns</p>\n",
       "</div>"
      ],
      "text/plain": [
       "                                 politics_titles_Trump\n",
       "0    If Trump Wins in November, Life on Earth Is Li...\n",
       "1    If you thought Harris/Trump was brutal wait fo...\n",
       "2    Brutal Video Shows Pace of Trump’s Cognitive D...\n",
       "3                   Trump Blames Everybody but Himself\n",
       "4    Harris widens her lead over Trump in new 2024 ...\n",
       "..                                                 ...\n",
       "456  Twenty educators at Barron Trump’s new school ...\n",
       "457  Trump Spent the Debate Walking Into Traps Harr...\n",
       "458  Trump insists Russia’s war should end. But he ...\n",
       "459  What the Debate Made Clear About a Second Trum...\n",
       "460  FACT CHECK: A look at the false and misleading...\n",
       "\n",
       "[461 rows x 1 columns]"
      ]
     },
     "execution_count": 3,
     "metadata": {},
     "output_type": "execute_result"
    }
   ],
   "source": [
    "# convert the above lists into dataframes\n",
    "df_politics_titles_trump = pd.DataFrame(politics_titles_trump, columns=['politics_titles_Trump'])\n",
    "\n",
    "# save the dataframe into a csv file\n",
    "df_politics_titles_trump.to_csv(\"df_politics_titles_trump.csv\")\n",
    "\n",
    "df_politics_titles_trump"
   ]
  },
  {
   "cell_type": "code",
   "execution_count": 4,
   "id": "9e8d0b03",
   "metadata": {},
   "outputs": [
    {
     "data": {
      "text/html": [
       "<div>\n",
       "<style scoped>\n",
       "    .dataframe tbody tr th:only-of-type {\n",
       "        vertical-align: middle;\n",
       "    }\n",
       "\n",
       "    .dataframe tbody tr th {\n",
       "        vertical-align: top;\n",
       "    }\n",
       "\n",
       "    .dataframe thead th {\n",
       "        text-align: right;\n",
       "    }\n",
       "</style>\n",
       "<table border=\"1\" class=\"dataframe\">\n",
       "  <thead>\n",
       "    <tr style=\"text-align: right;\">\n",
       "      <th></th>\n",
       "      <th>politics_titles_harris</th>\n",
       "    </tr>\n",
       "  </thead>\n",
       "  <tbody>\n",
       "    <tr>\n",
       "      <th>0</th>\n",
       "      <td>Caitlin Clark on ‘liking’ Taylor Swift’s Harri...</td>\n",
       "    </tr>\n",
       "    <tr>\n",
       "      <th>1</th>\n",
       "      <td>Romney: Harris’s debate performance shows she’...</td>\n",
       "    </tr>\n",
       "    <tr>\n",
       "      <th>2</th>\n",
       "      <td>Taylor Swift's endorsement of Harris sends mor...</td>\n",
       "    </tr>\n",
       "    <tr>\n",
       "      <th>3</th>\n",
       "      <td>Poll: 52% of registered voters support Harris ...</td>\n",
       "    </tr>\n",
       "    <tr>\n",
       "      <th>4</th>\n",
       "      <td>Kamala Harris Leads Fox News' 'Power Rankings'...</td>\n",
       "    </tr>\n",
       "    <tr>\n",
       "      <th>...</th>\n",
       "      <td>...</td>\n",
       "    </tr>\n",
       "    <tr>\n",
       "      <th>78</th>\n",
       "      <td>Taylor Swift Endorses Kamala Harris</td>\n",
       "    </tr>\n",
       "    <tr>\n",
       "      <th>79</th>\n",
       "      <td>After Taylor Swift's mega endorsement, it took...</td>\n",
       "    </tr>\n",
       "    <tr>\n",
       "      <th>80</th>\n",
       "      <td>Taylor Swift endorses Kamala Harris for presid...</td>\n",
       "    </tr>\n",
       "    <tr>\n",
       "      <th>81</th>\n",
       "      <td>Taylor Swift endorses Harris</td>\n",
       "    </tr>\n",
       "    <tr>\n",
       "      <th>82</th>\n",
       "      <td>Taylor Swift endorses Kamala Harris for president</td>\n",
       "    </tr>\n",
       "  </tbody>\n",
       "</table>\n",
       "<p>83 rows × 1 columns</p>\n",
       "</div>"
      ],
      "text/plain": [
       "                               politics_titles_harris\n",
       "0   Caitlin Clark on ‘liking’ Taylor Swift’s Harri...\n",
       "1   Romney: Harris’s debate performance shows she’...\n",
       "2   Taylor Swift's endorsement of Harris sends mor...\n",
       "3   Poll: 52% of registered voters support Harris ...\n",
       "4   Kamala Harris Leads Fox News' 'Power Rankings'...\n",
       "..                                                ...\n",
       "78                Taylor Swift Endorses Kamala Harris\n",
       "79  After Taylor Swift's mega endorsement, it took...\n",
       "80  Taylor Swift endorses Kamala Harris for presid...\n",
       "81                       Taylor Swift endorses Harris\n",
       "82  Taylor Swift endorses Kamala Harris for president\n",
       "\n",
       "[83 rows x 1 columns]"
      ]
     },
     "execution_count": 4,
     "metadata": {},
     "output_type": "execute_result"
    }
   ],
   "source": [
    "# convert it to a dataframe\n",
    "df_politics_titles_harris = pd.DataFrame(politics_titles_harris, columns=['politics_titles_harris'])\n",
    "\n",
    "# save it to a csv file\n",
    "df_politics_titles_harris.to_csv(\"df_politics_titles_harris.csv\", index=False)\n",
    "\n",
    "df_politics_titles_harris"
   ]
  },
  {
   "cell_type": "markdown",
   "id": "75f1bf99",
   "metadata": {},
   "source": [
    "#### Creating data frames of comments for each, Trump and Harris"
   ]
  },
  {
   "cell_type": "code",
   "execution_count": 5,
   "id": "382ebb9b-c8b5-4446-b829-c716eb57fcbb",
   "metadata": {},
   "outputs": [
    {
     "data": {
      "text/html": [
       "<div>\n",
       "<style scoped>\n",
       "    .dataframe tbody tr th:only-of-type {\n",
       "        vertical-align: middle;\n",
       "    }\n",
       "\n",
       "    .dataframe tbody tr th {\n",
       "        vertical-align: top;\n",
       "    }\n",
       "\n",
       "    .dataframe thead th {\n",
       "        text-align: right;\n",
       "    }\n",
       "</style>\n",
       "<table border=\"1\" class=\"dataframe\">\n",
       "  <thead>\n",
       "    <tr style=\"text-align: right;\">\n",
       "      <th></th>\n",
       "      <th>Comments_trump</th>\n",
       "    </tr>\n",
       "  </thead>\n",
       "  <tbody>\n",
       "    <tr>\n",
       "      <th>0</th>\n",
       "      <td>\\nAs a reminder, this subreddit [is for civil ...</td>\n",
       "    </tr>\n",
       "    <tr>\n",
       "      <th>1</th>\n",
       "      <td>As someone who doesn’t live in America I’m sur...</td>\n",
       "    </tr>\n",
       "    <tr>\n",
       "      <th>2</th>\n",
       "      <td>The Americas still have not recovered from Ron...</td>\n",
       "    </tr>\n",
       "    <tr>\n",
       "      <th>3</th>\n",
       "      <td>It's not sensationalist to point out that Trum...</td>\n",
       "    </tr>\n",
       "    <tr>\n",
       "      <th>4</th>\n",
       "      <td>The world still feeling the consequences of th...</td>\n",
       "    </tr>\n",
       "    <tr>\n",
       "      <th>...</th>\n",
       "      <td>...</td>\n",
       "    </tr>\n",
       "    <tr>\n",
       "      <th>55356</th>\n",
       "      <td>And a drag queen.  Fun fact, he's the same sui...</td>\n",
       "    </tr>\n",
       "    <tr>\n",
       "      <th>55357</th>\n",
       "      <td>[deleted]</td>\n",
       "    </tr>\n",
       "    <tr>\n",
       "      <th>55358</th>\n",
       "      <td>I saw a Harvard economics professor on the new...</td>\n",
       "    </tr>\n",
       "    <tr>\n",
       "      <th>55359</th>\n",
       "      <td>The sales tax one, at least, was a very poor r...</td>\n",
       "    </tr>\n",
       "    <tr>\n",
       "      <th>55360</th>\n",
       "      <td>Not a lie at all.  She explained it clearly at...</td>\n",
       "    </tr>\n",
       "  </tbody>\n",
       "</table>\n",
       "<p>55361 rows × 1 columns</p>\n",
       "</div>"
      ],
      "text/plain": [
       "                                          Comments_trump\n",
       "0      \\nAs a reminder, this subreddit [is for civil ...\n",
       "1      As someone who doesn’t live in America I’m sur...\n",
       "2      The Americas still have not recovered from Ron...\n",
       "3      It's not sensationalist to point out that Trum...\n",
       "4      The world still feeling the consequences of th...\n",
       "...                                                  ...\n",
       "55356  And a drag queen.  Fun fact, he's the same sui...\n",
       "55357                                          [deleted]\n",
       "55358  I saw a Harvard economics professor on the new...\n",
       "55359  The sales tax one, at least, was a very poor r...\n",
       "55360  Not a lie at all.  She explained it clearly at...\n",
       "\n",
       "[55361 rows x 1 columns]"
      ]
     },
     "execution_count": 5,
     "metadata": {},
     "output_type": "execute_result"
    }
   ],
   "source": [
    "# dataframe for comments\n",
    "df_politics_comments_trump = pd.DataFrame(comments_trump, columns=[\"Comments_trump\"])\n",
    "\n",
    "# save the dataframe into a csv file\n",
    "df_politics_comments_trump.to_csv(\"politics_comments_trump.csv\", index=False)\n",
    "\n",
    "df_politics_comments_trump"
   ]
  },
  {
   "cell_type": "code",
   "execution_count": 6,
   "id": "91e0a85c",
   "metadata": {},
   "outputs": [
    {
     "data": {
      "text/html": [
       "<div>\n",
       "<style scoped>\n",
       "    .dataframe tbody tr th:only-of-type {\n",
       "        vertical-align: middle;\n",
       "    }\n",
       "\n",
       "    .dataframe tbody tr th {\n",
       "        vertical-align: top;\n",
       "    }\n",
       "\n",
       "    .dataframe thead th {\n",
       "        text-align: right;\n",
       "    }\n",
       "</style>\n",
       "<table border=\"1\" class=\"dataframe\">\n",
       "  <thead>\n",
       "    <tr style=\"text-align: right;\">\n",
       "      <th></th>\n",
       "      <th>Comments_harris</th>\n",
       "    </tr>\n",
       "  </thead>\n",
       "  <tbody>\n",
       "    <tr>\n",
       "      <th>0</th>\n",
       "      <td>\\nAs a reminder, this subreddit [is for civil ...</td>\n",
       "    </tr>\n",
       "    <tr>\n",
       "      <th>1</th>\n",
       "      <td>Ah i see the \"freedom of speech is essential\" ...</td>\n",
       "    </tr>\n",
       "    <tr>\n",
       "      <th>2</th>\n",
       "      <td>I admire Swift (and Clark) saying basically \"d...</td>\n",
       "    </tr>\n",
       "    <tr>\n",
       "      <th>3</th>\n",
       "      <td>And a lot of conservative RW’ers heads explode...</td>\n",
       "    </tr>\n",
       "    <tr>\n",
       "      <th>4</th>\n",
       "      <td>[deleted]</td>\n",
       "    </tr>\n",
       "    <tr>\n",
       "      <th>...</th>\n",
       "      <td>...</td>\n",
       "    </tr>\n",
       "    <tr>\n",
       "      <th>8628</th>\n",
       "      <td>Someone has to. It won’t come from the Republi...</td>\n",
       "    </tr>\n",
       "    <tr>\n",
       "      <th>8629</th>\n",
       "      <td>Sounds a bit cultish</td>\n",
       "    </tr>\n",
       "    <tr>\n",
       "      <th>8630</th>\n",
       "      <td>Nah, she's a resident of Tennessee, so her vot...</td>\n",
       "    </tr>\n",
       "    <tr>\n",
       "      <th>8631</th>\n",
       "      <td>I agree, but I don't care.</td>\n",
       "    </tr>\n",
       "    <tr>\n",
       "      <th>8632</th>\n",
       "      <td>No state is meaningless, Harris still need to ...</td>\n",
       "    </tr>\n",
       "  </tbody>\n",
       "</table>\n",
       "<p>8633 rows × 1 columns</p>\n",
       "</div>"
      ],
      "text/plain": [
       "                                        Comments_harris\n",
       "0     \\nAs a reminder, this subreddit [is for civil ...\n",
       "1     Ah i see the \"freedom of speech is essential\" ...\n",
       "2     I admire Swift (and Clark) saying basically \"d...\n",
       "3     And a lot of conservative RW’ers heads explode...\n",
       "4                                             [deleted]\n",
       "...                                                 ...\n",
       "8628  Someone has to. It won’t come from the Republi...\n",
       "8629                               Sounds a bit cultish\n",
       "8630  Nah, she's a resident of Tennessee, so her vot...\n",
       "8631                         I agree, but I don't care.\n",
       "8632  No state is meaningless, Harris still need to ...\n",
       "\n",
       "[8633 rows x 1 columns]"
      ]
     },
     "execution_count": 6,
     "metadata": {},
     "output_type": "execute_result"
    }
   ],
   "source": [
    "# create a data frame for the comments\n",
    "df_politics_comments_harris = pd.DataFrame(comments_harris, columns=['Comments_harris'])\n",
    "\n",
    "# save it to a csv file\n",
    "df_politics_comments_harris.to_csv(\"politics_comments_harris.csv\")\n",
    "\n",
    "df_politics_comments_harris"
   ]
  },
  {
   "cell_type": "markdown",
   "id": "fb3a3b56-61e1-409e-a990-532f8f86e937",
   "metadata": {},
   "source": [
    "### Using VADER to label the data\n",
    "\n",
    "I use VADER here to label the datasets, as labelling them manually is not feasible at the moment.\n",
    "VADER, a rule-based sentiment analysis tool for social media text (Hutto & Gilbert, 2014), to analyze the polarity of comments in Reddit."
   ]
  },
  {
   "cell_type": "code",
   "execution_count": 7,
   "id": "3fc689b2",
   "metadata": {},
   "outputs": [],
   "source": [
    "# Initialize VADER sentiment analyzer\n",
    "analyzer = SentimentIntensityAnalyzer()\n",
    "\n",
    "# Function to get sentiment label using VADER\n",
    "def get_sentiment_label(comment):\n",
    "    sentiment_dict = analyzer.polarity_scores(comment)\n",
    "    compound_score = sentiment_dict['compound']\n",
    "    \n",
    "    # Assign sentiment label based on compound score\n",
    "    if compound_score >= 0.05:\n",
    "        return 'positive'\n",
    "    elif compound_score <= -0.05:\n",
    "        return 'negative'\n",
    "    else:\n",
    "        return 'neutral'\n",
    "\n",
    "# Create the data frame for comments and sentiments\n",
    "df_sentiments_trump = pd.DataFrame({\n",
    "    'Comment': df_politics_comments_trump['Comments_trump']\n",
    "})\n",
    "\n",
    "# Apply VADER to auto-label comments\n",
    "df_sentiments_trump['Sentiment'] = df_sentiments_trump['Comment'].apply(get_sentiment_label)"
   ]
  },
  {
   "cell_type": "code",
   "execution_count": 8,
   "id": "c2ea9e51",
   "metadata": {},
   "outputs": [
    {
     "name": "stdout",
     "output_type": "stream",
     "text": [
      "                                                 Comment Sentiment\n",
      "0      \\nAs a reminder, this subreddit [is for civil ...  negative\n",
      "1      As someone who doesn’t live in America I’m sur...  positive\n",
      "2      The Americas still have not recovered from Ron...   neutral\n",
      "3      It's not sensationalist to point out that Trum...  negative\n",
      "4      The world still feeling the consequences of th...  negative\n",
      "...                                                  ...       ...\n",
      "55356  And a drag queen.  Fun fact, he's the same sui...  positive\n",
      "55357                                          [deleted]   neutral\n",
      "55358  I saw a Harvard economics professor on the new...  positive\n",
      "55359  The sales tax one, at least, was a very poor r...  negative\n",
      "55360  Not a lie at all.  She explained it clearly at...  positive\n",
      "\n",
      "[55361 rows x 2 columns]\n"
     ]
    }
   ],
   "source": [
    "print(df_sentiments_trump)"
   ]
  },
  {
   "cell_type": "code",
   "execution_count": 9,
   "id": "e40af3e0",
   "metadata": {},
   "outputs": [],
   "source": [
    "# Create the data frame for comments and sentiments\n",
    "df_sentiments_harris = pd.DataFrame({\n",
    "    'Comment': df_politics_comments_harris['Comments_harris']\n",
    "})\n",
    "\n",
    "# Apply VADER to auto-label comments\n",
    "df_sentiments_harris['Sentiment'] = df_sentiments_harris['Comment'].apply(get_sentiment_label)"
   ]
  },
  {
   "cell_type": "code",
   "execution_count": 20,
   "id": "79c67439",
   "metadata": {},
   "outputs": [
    {
     "data": {
      "text/html": [
       "<div>\n",
       "<style scoped>\n",
       "    .dataframe tbody tr th:only-of-type {\n",
       "        vertical-align: middle;\n",
       "    }\n",
       "\n",
       "    .dataframe tbody tr th {\n",
       "        vertical-align: top;\n",
       "    }\n",
       "\n",
       "    .dataframe thead th {\n",
       "        text-align: right;\n",
       "    }\n",
       "</style>\n",
       "<table border=\"1\" class=\"dataframe\">\n",
       "  <thead>\n",
       "    <tr style=\"text-align: right;\">\n",
       "      <th></th>\n",
       "      <th>Comment</th>\n",
       "      <th>Sentiment</th>\n",
       "    </tr>\n",
       "  </thead>\n",
       "  <tbody>\n",
       "    <tr>\n",
       "      <th>0</th>\n",
       "      <td>\\nAs a reminder, this subreddit [is for civil ...</td>\n",
       "      <td>negative</td>\n",
       "    </tr>\n",
       "    <tr>\n",
       "      <th>1</th>\n",
       "      <td>Biden made a great decision</td>\n",
       "      <td>positive</td>\n",
       "    </tr>\n",
       "    <tr>\n",
       "      <th>2</th>\n",
       "      <td>Here's a preview of the story: \\n\\nTim Ryan, t...</td>\n",
       "      <td>positive</td>\n",
       "    </tr>\n",
       "    <tr>\n",
       "      <th>3</th>\n",
       "      <td>“Trump insists he won debate in Truth Social r...</td>\n",
       "      <td>positive</td>\n",
       "    </tr>\n",
       "    <tr>\n",
       "      <th>4</th>\n",
       "      <td>It’s almost like there was divine intervention...</td>\n",
       "      <td>positive</td>\n",
       "    </tr>\n",
       "    <tr>\n",
       "      <th>...</th>\n",
       "      <td>...</td>\n",
       "      <td>...</td>\n",
       "    </tr>\n",
       "    <tr>\n",
       "      <th>7483</th>\n",
       "      <td>In today's politics, everything is narrative b...</td>\n",
       "      <td>positive</td>\n",
       "    </tr>\n",
       "    <tr>\n",
       "      <th>7484</th>\n",
       "      <td>Great, how much federal land in Pennsylvania i...</td>\n",
       "      <td>positive</td>\n",
       "    </tr>\n",
       "    <tr>\n",
       "      <th>7485</th>\n",
       "      <td>Failing production under Trump.</td>\n",
       "      <td>negative</td>\n",
       "    </tr>\n",
       "    <tr>\n",
       "      <th>7486</th>\n",
       "      <td>Here’s the thing she said her values didn’t ch...</td>\n",
       "      <td>positive</td>\n",
       "    </tr>\n",
       "    <tr>\n",
       "      <th>7487</th>\n",
       "      <td>Very little. It's bought by developers, leased...</td>\n",
       "      <td>negative</td>\n",
       "    </tr>\n",
       "  </tbody>\n",
       "</table>\n",
       "<p>7488 rows × 2 columns</p>\n",
       "</div>"
      ],
      "text/plain": [
       "                                                Comment Sentiment\n",
       "0     \\nAs a reminder, this subreddit [is for civil ...  negative\n",
       "1                           Biden made a great decision  positive\n",
       "2     Here's a preview of the story: \\n\\nTim Ryan, t...  positive\n",
       "3     “Trump insists he won debate in Truth Social r...  positive\n",
       "4     It’s almost like there was divine intervention...  positive\n",
       "...                                                 ...       ...\n",
       "7483  In today's politics, everything is narrative b...  positive\n",
       "7484  Great, how much federal land in Pennsylvania i...  positive\n",
       "7485                    Failing production under Trump.  negative\n",
       "7486  Here’s the thing she said her values didn’t ch...  positive\n",
       "7487  Very little. It's bought by developers, leased...  negative\n",
       "\n",
       "[7488 rows x 2 columns]"
      ]
     },
     "execution_count": 20,
     "metadata": {},
     "output_type": "execute_result"
    }
   ],
   "source": [
    "df_sentiments_harris"
   ]
  },
  {
   "cell_type": "markdown",
   "id": "db877a25",
   "metadata": {},
   "source": [
    "### Data Exploration\n",
    "\n",
    "We look at both of the dataframe separately and see how the different sentiments are distributed for Harris and Trump.\n",
    "\n",
    "According to the labels assigned to each comment in the dataset, we check the proportion of each class of sentiment (i.e positive, negative and neutral).\n",
    "\n",
    "The overall count of comments for Trump is much higher than Harris and as it can be seen below, from the comments collected, there are almost equal proportion of negative and positive sentiment for Trump while the proportion of negative sentiments for Harris is lower."
   ]
  },
  {
   "cell_type": "code",
   "execution_count": 21,
   "id": "085904a1",
   "metadata": {},
   "outputs": [
    {
     "name": "stdout",
     "output_type": "stream",
     "text": [
      "Sentiment\n",
      "positive    3498\n",
      "negative    2263\n",
      "neutral     1727\n",
      "Name: count, dtype: int64\n"
     ]
    }
   ],
   "source": [
    "# Count of sentiments in the dataset for Harris\n",
    "sentiment_counts_harris = df_sentiments_harris['Sentiment'].value_counts()\n",
    "print(sentiment_counts_harris)"
   ]
  },
  {
   "cell_type": "code",
   "execution_count": 25,
   "id": "ffd820ec",
   "metadata": {},
   "outputs": [
    {
     "name": "stdout",
     "output_type": "stream",
     "text": [
      "Sentiment\n",
      "positive    21091\n",
      "negative    20128\n",
      "neutral     12534\n",
      "Name: count, dtype: int64\n"
     ]
    }
   ],
   "source": [
    "# count of sentiments in the dataset for Trump\n",
    "sentiment_counts_trump = df_sentiments_trump['Sentiment'].value_counts()\n",
    "print(sentiment_counts_trump)"
   ]
  },
  {
   "cell_type": "code",
   "execution_count": 26,
   "id": "ab80a9d4",
   "metadata": {},
   "outputs": [
    {
     "name": "stdout",
     "output_type": "stream",
     "text": [
      "No of comments related to Trump: 53753\n",
      "No of comments related to Harris: 7488\n"
     ]
    }
   ],
   "source": [
    "# compare the total counts of comments for Harris vs Trump \n",
    "trump_comments_count = len(df_politics_comments_trump)\n",
    "\n",
    "harris_comments_count = len(df_politics_comments_harris)\n",
    "\n",
    "print(f\"No of comments related to Trump: {trump_comments_count}\")\n",
    "print(f\"No of comments related to Harris: {harris_comments_count}\")"
   ]
  },
  {
   "cell_type": "code",
   "execution_count": 32,
   "id": "ae1f3282",
   "metadata": {},
   "outputs": [
    {
     "data": {
      "image/png": "[encoded data removed]",
      "text/plain": [
       "<Figure size 800x600 with 1 Axes>"
      ]
     },
     "metadata": {},
     "output_type": "display_data"
    }
   ],
   "source": [
    "# Data for plotting\n",
    "labels = ['Trump', 'Harris']\n",
    "comment_counts = [trump_comments_count, harris_comments_count]\n",
    "\n",
    "# Create a bar chart\n",
    "plt.figure(figsize=(8, 6))  # Adjusts the size of the plot\n",
    "bars = plt.bar(labels, comment_counts, color=['#E50000', 'blue'])\n",
    "\n",
    "# Add labels, title, and grid\n",
    "plt.title('Comparison of Comments for Trump vs Harris', fontsize=16)\n",
    "plt.xlabel('Person', fontsize=14)\n",
    "plt.ylabel('Number of Comments', fontsize=14)\n",
    "plt.grid(axis='y', linestyle='--', alpha=0.7)\n",
    "\n",
    "# Annotate the bars\n",
    "for bar in bars:\n",
    "    yval = bar.get_height()\n",
    "    plt.text(bar.get_x() + bar.get_width()/2, yval + 50, int(yval), ha='center', fontsize=12)\n",
    "\n",
    "# Show the plot\n",
    "plt.tight_layout()\n",
    "plt.show()"
   ]
  },
  {
   "cell_type": "code",
   "execution_count": 33,
   "id": "500febc4",
   "metadata": {},
   "outputs": [
    {
     "data": {
      "image/png": "[encoded data removed]",
      "text/plain": [
       "<Figure size 700x500 with 1 Axes>"
      ]
     },
     "metadata": {},
     "output_type": "display_data"
    },
    {
     "name": "stdout",
     "output_type": "stream",
     "text": [
      "Sentiment\n",
      "positive    0.467147\n",
      "negative    0.302217\n",
      "neutral     0.230636\n",
      "Name: count, dtype: float64\n"
     ]
    }
   ],
   "source": [
    "total_counts_harris = sentiment_counts_harris.sum()\n",
    "\n",
    "# Calculate proportions for each sentiment\n",
    "sentiment_proportions_harris = sentiment_counts_harris / total_counts_harris\n",
    "\n",
    "# Create a bar plot for proportions\n",
    "plt.figure(figsize=(7,5))\n",
    "sentiment_proportions_harris.plot(kind='bar', color=['#15B01A', '#E50000', 'gray'])\n",
    "\n",
    "# Add labels and title\n",
    "plt.title('Sentiment Distribution (Proportions)')\n",
    "plt.xlabel('Sentiment')\n",
    "plt.ylabel('Proportion')\n",
    "\n",
    "# Set x-axis ticks \n",
    "plt.xticks(rotation=0)\n",
    "\n",
    "# Adjust layout\n",
    "plt.tight_layout()\n",
    "\n",
    "# Show the plot\n",
    "plt.show()\n",
    "\n",
    "print(sentiment_proportions_harris)"
   ]
  },
  {
   "cell_type": "code",
   "execution_count": 34,
   "id": "79eee6bc",
   "metadata": {},
   "outputs": [
    {
     "data": {
      "image/png": "[encoded data removed]",
      "text/plain": [
       "<Figure size 700x500 with 1 Axes>"
      ]
     },
     "metadata": {},
     "output_type": "display_data"
    },
    {
     "name": "stdout",
     "output_type": "stream",
     "text": [
      "Sentiment\n",
      "positive    0.392369\n",
      "negative    0.374454\n",
      "neutral     0.233178\n",
      "Name: count, dtype: float64\n"
     ]
    }
   ],
   "source": [
    "total_counts_trump = sentiment_counts_trump.sum()\n",
    "\n",
    "# Calculate proportions for each sentiment\n",
    "sentiment_proportions_trump = sentiment_counts_trump / total_counts_trump\n",
    "\n",
    "\n",
    "# Create a bar plot\n",
    "plt.figure(figsize=(7, 5))\n",
    "sentiment_proportions_trump.plot(kind='bar', color=['#15B01A', '#E50000', 'gray'])\n",
    "\n",
    "# Add labels and title\n",
    "plt.title('Sentiment Distribution (Proportions)')\n",
    "plt.xlabel('Sentiment')\n",
    "plt.ylabel('Proportion')\n",
    "\n",
    "# Set x-axis ticks for better readability\n",
    "plt.xticks(rotation=0)\n",
    "\n",
    "# Adjust layout\n",
    "plt.tight_layout()\n",
    "\n",
    "# Show the plot\n",
    "plt.show()\n",
    "\n",
    "print(sentiment_proportions_trump)"
   ]
  },
  {
   "cell_type": "markdown",
   "id": "b3b37757",
   "metadata": {},
   "source": [
    "### Data Preparation\n",
    "\n",
    "I want to merge both the comments datasets with their corresponding sentiments as labels.\n",
    "I am preparing this merged dataset for sentiment classification task.\n",
    "\n",
    "In the cell following to that I will apply some basic data cleaning which includes:\n",
    "- In this process I will remove the the leading and trailing whitespaces. \n",
    "- Removing the comments where it is empty or too short. \n",
    "- Drop the missing values. \n",
    "- Reset index after cleaning.\n",
    "- Changing the Sentiment column to be lowercase.\n",
    "\n",
    "\n",
    "The sentiment labels are converted into numeric values ('positive' = 1, 'negative' = 0, 'neutral' = 2), and the data is split into training and testing sets. Using TF-IDF, the text comments are transformed into numerical features."
   ]
  },
  {
   "cell_type": "code",
   "execution_count": 11,
   "id": "ea3dfbae",
   "metadata": {},
   "outputs": [
    {
     "name": "stdout",
     "output_type": "stream",
     "text": [
      "(63994, 2)\n",
      "                                             Comment Sentiment\n",
      "0  \\nAs a reminder, this subreddit [is for civil ...  negative\n",
      "1  Ah i see the \"freedom of speech is essential\" ...  positive\n",
      "2  I admire Swift (and Clark) saying basically \"d...  positive\n",
      "3  And a lot of conservative RW’ers heads explode...  positive\n",
      "4                                          [deleted]   neutral\n"
     ]
    }
   ],
   "source": [
    "# Append df_sentiments_trump to df_sentiments_harris\n",
    "df_merged = pd.concat([df_sentiments_harris, df_sentiments_trump], ignore_index=True)\n",
    "\n",
    "# Display the shape of the merged dataframe\n",
    "print(df_merged.shape)\n",
    "\n",
    "# Display the first few rows of the merged dataframe to verify\n",
    "print(df_merged.head())\n"
   ]
  },
  {
   "cell_type": "code",
   "execution_count": 12,
   "id": "f1eca247",
   "metadata": {},
   "outputs": [
    {
     "name": "stdout",
     "output_type": "stream",
     "text": [
      "(62111, 2)\n",
      "                                             Comment Sentiment\n",
      "0  As a reminder, this subreddit [is for civil di...  negative\n",
      "1  Ah i see the \"freedom of speech is essential\" ...  positive\n",
      "2  I admire Swift (and Clark) saying basically \"d...  positive\n",
      "3  And a lot of conservative RW’ers heads explode...  positive\n",
      "4                                          [deleted]   neutral\n"
     ]
    }
   ],
   "source": [
    "# Strip leading and trailing whitespaces from the 'Comment' column\n",
    "df_merged['Comment'] = df_merged['Comment'].str.strip()\n",
    "\n",
    "# Remove rows where 'Comment' is empty or too short (e.g., less than 5 characters)\n",
    "df_merged = df_merged[df_merged['Comment'].str.len() > 5]\n",
    "\n",
    "# Drop duplicate rows if any exist\n",
    "df_merged = df_merged.drop_duplicates()\n",
    "\n",
    "# Change the 'Sentiment' column to be lowercase\n",
    "df_merged['Sentiment'] = df_merged['Sentiment'].str.lower()\n",
    "\n",
    "# Check and drop any rows with missing values\n",
    "df_merged = df_merged.dropna()\n",
    "\n",
    "# Reset index after cleaning\n",
    "df_merged = df_merged.reset_index(drop=True)\n",
    "\n",
    "# Display the cleaned DataFrame shape and first few rows\n",
    "print(df_merged.shape)\n",
    "print(df_merged.head())"
   ]
  },
  {
   "cell_type": "markdown",
   "id": "7316af2c",
   "metadata": {},
   "source": [
    "#### "
   ]
  },
  {
   "cell_type": "markdown",
   "id": "b1a37b9f",
   "metadata": {},
   "source": [
    "#### Removal of stop words from the comments"
   ]
  },
  {
   "cell_type": "code",
   "execution_count": 29,
   "id": "775b5d5a",
   "metadata": {},
   "outputs": [],
   "source": [
    "# Creating a copy of df_merged data frame\n",
    "df_merged_clean = df_merged.copy()"
   ]
  },
  {
   "cell_type": "code",
   "execution_count": 22,
   "id": "d9315025",
   "metadata": {},
   "outputs": [
    {
     "name": "stderr",
     "output_type": "stream",
     "text": [
      "[nltk_data] Downloading package stopwords to /home/zabi/nltk_data...\n",
      "[nltk_data]   Package stopwords is already up-to-date!\n"
     ]
    },
    {
     "data": {
      "text/plain": [
       "'find funny educate isnt really far research empty platitude doesnt actually say anything cant imagine upsets much ive done research catchphrase decade'"
      ]
     },
     "execution_count": 22,
     "metadata": {},
     "output_type": "execute_result"
    }
   ],
   "source": [
    "# download nltk stopwords\n",
    "nltk.download('stopwords')\n",
    "\n",
    "# define stop words\n",
    "stop_words = set(stopwords.words('english'))\n",
    "\n",
    "# Function to clean the text\n",
    "def clean_text(text):\n",
    "    # Remove punctuation\n",
    "    text = text.translate(str.maketrans('', '', string.punctuation))\n",
    "    \n",
    "    # Convert to lowercase\n",
    "    text = text.lower()\n",
    "    \n",
    "    # Remove stop words\n",
    "    text = ' '.join([word for word in text.split() if word not in stop_words])\n",
    "    \n",
    "    return text\n",
    "\n",
    "# Apply the clean_text function to the 'Comment' column\n",
    "df_merged_clean['Comment'] = df_merged_clean['Comment'].apply(clean_text)\n",
    "\n",
    "# Display the cleaned data\n",
    "df_merged_clean['Comment'][112]"
   ]
  },
  {
   "cell_type": "markdown",
   "id": "9dc12ae3",
   "metadata": {},
   "source": [
    "### Model Training and Evaluation\n",
    "\n",
    "\n",
    "I then train a Logistic Regression model on the training data and evaluate its performance on the test set using accuracy and a classification report to assess precision, recall, and F1-score.\n",
    "\n",
    "The model achieved an accuracy of approximately 81%, indicating that it correctly predicted the sentiment in 81% of the cases.\n",
    "\n",
    "For negative (0) comments, the model has a precision of 0.82, recall of 0.76, and an F1-score of 0.79, showing it correctly identifies most negative comments but occasionally misses some.\n",
    "\n",
    "For positive (1) comments, the precision is 0.83, recall is 0.83, and F1-score is 0.83, indicating balanced performance.\n",
    "\n",
    "For neutral (2) comments, the model's precision is 0.77 and recall is 0.85, meaning it identifies neutral comments well but occasionally misclassifies others as neutral.\n",
    "\n",
    "Overall, the model demonstrates balanced performance across all classes."
   ]
  },
  {
   "cell_type": "code",
   "execution_count": 24,
   "id": "6c26d645",
   "metadata": {},
   "outputs": [
    {
     "name": "stdout",
     "output_type": "stream",
     "text": [
      "Accuracy: 0.80930532077598\n",
      "\n",
      "Classification Report:\n",
      "               precision    recall  f1-score   support\n",
      "\n",
      "           0       0.82      0.76      0.79      4441\n",
      "           1       0.83      0.83      0.83      5073\n",
      "           2       0.77      0.85      0.81      2909\n",
      "\n",
      "    accuracy                           0.81     12423\n",
      "   macro avg       0.81      0.81      0.81     12423\n",
      "weighted avg       0.81      0.81      0.81     12423\n",
      "\n"
     ]
    }
   ],
   "source": [
    "# Preprocess the data\n",
    "# Convert 'Sentiment' to numeric form (e.g., 'positive' = 1, 'negative' = 0, 'neutral' = 2)\n",
    "df_merged_clean['Sentiment'] = df_merged_clean['Sentiment'].map({'positive': 1, 'negative': 0, 'neutral': 2})\n",
    "\n",
    "\n",
    "# Split the data into training and testing sets\n",
    "X = df_merged_clean['Comment']  # Feature: the text comments\n",
    "y = df_merged_clean['Sentiment']  # Target: sentiment labels\n",
    "\n",
    "X_train, X_test, y_train, y_test = train_test_split(X, y, test_size=0.2, random_state=42)\n",
    "\n",
    "# Convert text data into numerical form using TF-IDF\n",
    "tfidf_vectorizer = TfidfVectorizer(max_features=5000, stop_words='english')\n",
    "X_train_tfidf = tfidf_vectorizer.fit_transform(X_train)\n",
    "X_test_tfidf = tfidf_vectorizer.transform(X_test)\n",
    "\n",
    "# Train a Logistic Regression model\n",
    "model = LogisticRegression(max_iter=1000)\n",
    "model.fit(X_train_tfidf, y_train)\n",
    "\n",
    "# Make predictions and evaluate the model\n",
    "y_pred = model.predict(X_test_tfidf)\n",
    "\n",
    "# Evaluate the performance of the model\n",
    "print(\"Accuracy:\", accuracy_score(y_test, y_pred))\n",
    "print(\"\\nClassification Report:\\n\", classification_report(y_test, y_pred))"
   ]
  },
  {
   "cell_type": "markdown",
   "id": "47ddd942",
   "metadata": {},
   "source": [
    "### Evaluation plots"
   ]
  },
  {
   "cell_type": "code",
   "execution_count": 28,
   "id": "5d5b005c",
   "metadata": {},
   "outputs": [
    {
     "data": {
      "image/png": "[encoded data removed]",
      "text/plain": [
       "<Figure size 1000x600 with 1 Axes>"
      ]
     },
     "metadata": {},
     "output_type": "display_data"
    },
    {
     "data": {
      "image/png": "[encoded data removed]",
      "text/plain": [
       "<Figure size 800x600 with 2 Axes>"
      ]
     },
     "metadata": {},
     "output_type": "display_data"
    }
   ],
   "source": [
    "# Classification report dictionary for precision, recall, and f1-score\n",
    "report = {\n",
    "    'Sentiment': ['Negative', 'Positive', 'Neutral'],\n",
    "    'Precision': [0.82, 0.83, 0.77],\n",
    "    'Recall': [0.76, 0.83, 0.85],\n",
    "    'F1-Score': [0.79, 0.83, 0.81]\n",
    "}\n",
    "\n",
    "# Create a DataFrame for easy plotting\n",
    "df_report = pd.DataFrame(report)\n",
    "\n",
    "# Plot precision, recall, and f1-score\n",
    "fig, ax = plt.subplots(figsize=(10, 6))\n",
    "df_report.set_index('Sentiment').plot(kind='bar', ax=ax)\n",
    "\n",
    "plt.title('Precision, Recall, and F1-Score for Each Sentiment Class', fontsize=16)\n",
    "plt.ylabel('Score')\n",
    "plt.ylim(0.5, 1.0)\n",
    "plt.xticks(rotation=0)\n",
    "plt.legend(loc='lower right', fontsize=12)\n",
    "plt.grid(axis='y', linestyle='--', alpha=0.7)\n",
    "\n",
    "# Show plot\n",
    "plt.tight_layout()\n",
    "plt.show()\n",
    "\n",
    "# Confusion Matrix Visualization\n",
    "y_pred = model.predict(X_test_tfidf)\n",
    "cm = confusion_matrix(y_test, y_pred)\n",
    "\n",
    "# Labels for the confusion matrix\n",
    "labels = ['Negative', 'Positive', 'Neutral']\n",
    "\n",
    "# Plot the confusion matrix using seaborn\n",
    "plt.figure(figsize=(8, 6))\n",
    "sns.heatmap(cm, annot=True, fmt='d', cmap='Blues', xticklabels=labels, yticklabels=labels)\n",
    "\n",
    "plt.title('Confusion Matrix for Sentiment Analysis', fontsize=16)\n",
    "plt.xlabel('Predicted')\n",
    "plt.ylabel('Actual')\n",
    "plt.show()"
   ]
  }
 ],
 "metadata": {
  "kernelspec": {
   "display_name": "Python 3 (ipykernel)",
   "language": "python",
   "name": "python3"
  },
  "language_info": {
   "codemirror_mode": {
    "name": "ipython",
    "version": 3
   },
   "file_extension": ".py",
   "mimetype": "text/x-python",
   "name": "python",
   "nbconvert_exporter": "python",
   "pygments_lexer": "ipython3",
   "version": "3.11.9"
  }
 },
 "nbformat": 4,
 "nbformat_minor": 5
}
